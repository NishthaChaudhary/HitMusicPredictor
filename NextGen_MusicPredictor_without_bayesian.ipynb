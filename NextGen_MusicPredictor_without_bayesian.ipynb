{
 "cells": [
  {
   "cell_type": "markdown",
   "metadata": {},
   "source": [
    "# NEXT GENERATION MUSIC PREDICTOR SYSTEM "
   ]
  },
  {
   "cell_type": "markdown",
   "metadata": {},
   "source": [
    "* Problem Statement: NextGen Music system will predict how popular a new song will be. We are trying to investigate how old songs can be used to predict the popularity of the new songs based on the features of the song and their past popularity on old songs from 1991-2018. We will focus on few points like certain characteristics for hit songs and does the new song fall under this hit criteria.It can help a music company to decide the features/genre of the new music album so that it has high chances of success."
   ]
  },
  {
   "cell_type": "markdown",
   "metadata": {},
   "source": [
    "* Below we are importing all the necesasary packages required for the analysis and operations."
   ]
  },
  {
   "cell_type": "code",
   "execution_count": 1,
   "metadata": {},
   "outputs": [],
   "source": [
    "\n",
    "# Numpy and Pandas\n",
    "import numpy as np\n",
    "import pandas as pd\n",
    "\n",
    "# Visualization\n",
    "import matplotlib.pyplot as plt\n",
    "\n",
    "%matplotlib inline\n",
    "import seaborn as sns\n",
    "\n",
    "# Prediction\n",
    "from sklearn import metrics\n",
    "from sklearn.model_selection import KFold\n",
    "from sklearn.model_selection import train_test_split\n",
    "from sklearn.metrics import r2_score, roc_auc_score\n",
    "from sklearn.model_selection import cross_val_score\n",
    "#from sklearn.model_selection import cross_val_score, GridSeachCV\n",
    "from sklearn.metrics import accuracy_score\n",
    "from sklearn.metrics import confusion_matrix\n",
    "from sklearn.ensemble import ExtraTreesClassifier\n",
    "from sklearn.dummy import DummyClassifier # Validation\n",
    "\n",
    "\n",
    "import itertools\n",
    "import copy\n",
    "# Classifiers\n",
    "\n",
    "from sklearn import svm\n",
    "#import xgboost as xgb\n",
    "#from xgboost.sklearn import XGBRegressor\n",
    "from sklearn.ensemble import RandomForestClassifier\n",
    "from sklearn.neighbors import KNeighborsClassifier\n",
    "\n",
    "\n",
    "# Data prepping\n",
    "from sklearn.preprocessing import LabelEncoder\n"
   ]
  },
  {
   "cell_type": "markdown",
   "metadata": {},
   "source": [
    "* Data Set: We have used Spotify data set for the analysis. Data set containing audio data from 1991- 2018 and 3 listener data set. Now we have merged the data of 27 years into one combined file named  \"combined.csv\" which we are reading on the notebook below."
   ]
  },
  {
   "cell_type": "code",
   "execution_count": 2,
   "metadata": {},
   "outputs": [
    {
     "name": "stderr",
     "output_type": "stream",
     "text": [
      "C:\\Users\\saiprasad\\Anaconda3\\lib\\site-packages\\IPython\\core\\interactiveshell.py:3020: DtypeWarning: Columns (0) have mixed types. Specify dtype option on import or set low_memory=False.\n",
      "  interactivity=interactivity, compiler=compiler, result=result)\n"
     ]
    }
   ],
   "source": [
    "#Reading the merged file\n",
    "music = pd.read_csv('C:/Users/saiprasad/Desktop/Project/Spotify_/combined_csv.csv')"
   ]
  },
  {
   "cell_type": "markdown",
   "metadata": {},
   "source": [
    "* We are able to see the number of rows and columns present in Dataset."
   ]
  },
  {
   "cell_type": "code",
   "execution_count": 3,
   "metadata": {},
   "outputs": [
    {
     "data": {
      "text/plain": [
       "(530241, 26)"
      ]
     },
     "execution_count": 3,
     "metadata": {},
     "output_type": "execute_result"
    }
   ],
   "source": [
    "#getting head\n",
    "music.head()\n",
    "#getting dimensions\n",
    "music.shape"
   ]
  },
  {
   "cell_type": "markdown",
   "metadata": {},
   "source": [
    "* Null values are calculated for every caregory in the dataset"
   ]
  },
  {
   "cell_type": "code",
   "execution_count": 4,
   "metadata": {},
   "outputs": [
    {
     "data": {
      "text/plain": [
       "Unnamed: 0              0\n",
       "acousticness            1\n",
       "album_id                1\n",
       "album_name              1\n",
       "analysis_url            1\n",
       "artist_ids              1\n",
       "artist_names            1\n",
       "danceability            3\n",
       "disc_number             1\n",
       "duration_ms             1\n",
       "energy                  1\n",
       "instrumentalness        1\n",
       "key                     1\n",
       "liveness                1\n",
       "loudness                1\n",
       "mode                    1\n",
       "popularity              1\n",
       "preview_url         70211\n",
       "song_id                 1\n",
       "song_name               1\n",
       "speechiness             3\n",
       "tempo                   1\n",
       "time_signature          3\n",
       "track_href              1\n",
       "track_number            1\n",
       "valence                 3\n",
       "dtype: int64"
      ]
     },
     "execution_count": 4,
     "metadata": {},
     "output_type": "execute_result"
    }
   ],
   "source": [
    "#calculates no of null values for each category in dataset\n",
    "music.isnull().sum()"
   ]
  },
  {
   "cell_type": "code",
   "execution_count": 5,
   "metadata": {},
   "outputs": [
    {
     "data": {
      "text/plain": [
       "Unnamed: 0          0\n",
       "acousticness        0\n",
       "album_id            0\n",
       "album_name          0\n",
       "analysis_url        0\n",
       "artist_ids          0\n",
       "artist_names        0\n",
       "danceability        0\n",
       "disc_number         0\n",
       "duration_ms         0\n",
       "energy              0\n",
       "instrumentalness    0\n",
       "key                 0\n",
       "liveness            0\n",
       "loudness            0\n",
       "mode                0\n",
       "popularity          0\n",
       "preview_url         0\n",
       "song_id             0\n",
       "song_name           0\n",
       "speechiness         0\n",
       "tempo               0\n",
       "time_signature      0\n",
       "track_href          0\n",
       "track_number        0\n",
       "valence             0\n",
       "dtype: int64"
      ]
     },
     "execution_count": 5,
     "metadata": {},
     "output_type": "execute_result"
    }
   ],
   "source": [
    "#As we can see we have null values, we can remove then as they are few\n",
    "music_backup=music\n",
    "#Drop null values\n",
    "music=music.dropna()\n",
    "#Check for null\n",
    "music.isnull().sum()\n",
    "#Save as csv\n",
    "#music.to_csv('music.csv',index=False)\n",
    "#music.head()"
   ]
  },
  {
   "cell_type": "markdown",
   "metadata": {},
   "source": [
    "* We will be dropping  unnecessary columns (Attributes) which are not required for our analysis."
   ]
  },
  {
   "cell_type": "code",
   "execution_count": 6,
   "metadata": {},
   "outputs": [],
   "source": [
    "#drop the unecessary columns\n",
    "music=music.drop(['Unnamed: 0','album_id','artist_ids','song_name','artist_names','album_name','analysis_url','artist_names','disc_number','duration_ms','preview_url','song_id','time_signature','track_href','track_number'], axis=1)\n"
   ]
  },
  {
   "cell_type": "markdown",
   "metadata": {},
   "source": [
    "* Calculation of mean is done and this is the most important part as we will be considering the Song hit prediction based on the mean value of the popularity attribute."
   ]
  },
  {
   "cell_type": "code",
   "execution_count": 7,
   "metadata": {},
   "outputs": [
    {
     "data": {
      "text/plain": [
       "8.848448355317503"
      ]
     },
     "execution_count": 7,
     "metadata": {},
     "output_type": "execute_result"
    }
   ],
   "source": [
    "#calculating the mean of popularity\n",
    "pop_mean=music[\"popularity\"].mean()\n",
    "pop_mean"
   ]
  },
  {
   "cell_type": "markdown",
   "metadata": {},
   "source": [
    "* The obtained Mean value for the \"Popularity Attribute\" for the dataset is ( 8.85 )."
   ]
  },
  {
   "cell_type": "markdown",
   "metadata": {},
   "source": [
    "* Sorting the data based on the \" Popularity Attribute \" which has popularity value greater than the Mean value of the dataset. Where \"1\" and \"0\" are named as the indicator wheather it is greater than mean or not. If it is 1 then True it is greater, else \"0\" and new attribute is generated as \"Popularity_Factor\"."
   ]
  },
  {
   "cell_type": "code",
   "execution_count": 8,
   "metadata": {},
   "outputs": [
    {
     "data": {
      "text/html": [
       "<div>\n",
       "<style scoped>\n",
       "    .dataframe tbody tr th:only-of-type {\n",
       "        vertical-align: middle;\n",
       "    }\n",
       "\n",
       "    .dataframe tbody tr th {\n",
       "        vertical-align: top;\n",
       "    }\n",
       "\n",
       "    .dataframe thead th {\n",
       "        text-align: right;\n",
       "    }\n",
       "</style>\n",
       "<table border=\"1\" class=\"dataframe\">\n",
       "  <thead>\n",
       "    <tr style=\"text-align: right;\">\n",
       "      <th></th>\n",
       "      <th>acousticness</th>\n",
       "      <th>danceability</th>\n",
       "      <th>energy</th>\n",
       "      <th>instrumentalness</th>\n",
       "      <th>key</th>\n",
       "      <th>liveness</th>\n",
       "      <th>loudness</th>\n",
       "      <th>mode</th>\n",
       "      <th>popularity</th>\n",
       "      <th>speechiness</th>\n",
       "      <th>tempo</th>\n",
       "      <th>valence</th>\n",
       "      <th>Popularity_factor</th>\n",
       "    </tr>\n",
       "  </thead>\n",
       "  <tbody>\n",
       "    <tr>\n",
       "      <th>2</th>\n",
       "      <td>0.0468</td>\n",
       "      <td>0.737</td>\n",
       "      <td>0.801</td>\n",
       "      <td>0.888000</td>\n",
       "      <td>0.0</td>\n",
       "      <td>0.1050</td>\n",
       "      <td>-9.058</td>\n",
       "      <td>1.0</td>\n",
       "      <td>18.0</td>\n",
       "      <td>0.0344</td>\n",
       "      <td>145.003</td>\n",
       "      <td>0.8590</td>\n",
       "      <td>1</td>\n",
       "    </tr>\n",
       "    <tr>\n",
       "      <th>3</th>\n",
       "      <td>0.9480</td>\n",
       "      <td>0.340</td>\n",
       "      <td>0.265</td>\n",
       "      <td>0.815000</td>\n",
       "      <td>8.0</td>\n",
       "      <td>0.0899</td>\n",
       "      <td>-7.477</td>\n",
       "      <td>1.0</td>\n",
       "      <td>18.0</td>\n",
       "      <td>0.0284</td>\n",
       "      <td>110.588</td>\n",
       "      <td>0.0866</td>\n",
       "      <td>1</td>\n",
       "    </tr>\n",
       "    <tr>\n",
       "      <th>4</th>\n",
       "      <td>0.6300</td>\n",
       "      <td>0.587</td>\n",
       "      <td>0.493</td>\n",
       "      <td>0.000000</td>\n",
       "      <td>8.0</td>\n",
       "      <td>0.2240</td>\n",
       "      <td>-8.368</td>\n",
       "      <td>1.0</td>\n",
       "      <td>53.0</td>\n",
       "      <td>0.0296</td>\n",
       "      <td>131.727</td>\n",
       "      <td>0.2100</td>\n",
       "      <td>1</td>\n",
       "    </tr>\n",
       "    <tr>\n",
       "      <th>5</th>\n",
       "      <td>0.0424</td>\n",
       "      <td>0.853</td>\n",
       "      <td>0.686</td>\n",
       "      <td>0.000003</td>\n",
       "      <td>10.0</td>\n",
       "      <td>0.0866</td>\n",
       "      <td>-8.314</td>\n",
       "      <td>0.0</td>\n",
       "      <td>48.0</td>\n",
       "      <td>0.2680</td>\n",
       "      <td>122.970</td>\n",
       "      <td>0.5380</td>\n",
       "      <td>1</td>\n",
       "    </tr>\n",
       "    <tr>\n",
       "      <th>6</th>\n",
       "      <td>0.7430</td>\n",
       "      <td>0.659</td>\n",
       "      <td>0.407</td>\n",
       "      <td>0.000000</td>\n",
       "      <td>4.0</td>\n",
       "      <td>0.0784</td>\n",
       "      <td>-9.718</td>\n",
       "      <td>0.0</td>\n",
       "      <td>62.0</td>\n",
       "      <td>0.0353</td>\n",
       "      <td>119.321</td>\n",
       "      <td>0.2690</td>\n",
       "      <td>1</td>\n",
       "    </tr>\n",
       "  </tbody>\n",
       "</table>\n",
       "</div>"
      ],
      "text/plain": [
       "   acousticness  danceability  energy  instrumentalness   key  liveness  \\\n",
       "2        0.0468         0.737   0.801          0.888000   0.0    0.1050   \n",
       "3        0.9480         0.340   0.265          0.815000   8.0    0.0899   \n",
       "4        0.6300         0.587   0.493          0.000000   8.0    0.2240   \n",
       "5        0.0424         0.853   0.686          0.000003  10.0    0.0866   \n",
       "6        0.7430         0.659   0.407          0.000000   4.0    0.0784   \n",
       "\n",
       "   loudness  mode  popularity  speechiness    tempo  valence  \\\n",
       "2    -9.058   1.0        18.0       0.0344  145.003   0.8590   \n",
       "3    -7.477   1.0        18.0       0.0284  110.588   0.0866   \n",
       "4    -8.368   1.0        53.0       0.0296  131.727   0.2100   \n",
       "5    -8.314   0.0        48.0       0.2680  122.970   0.5380   \n",
       "6    -9.718   0.0        62.0       0.0353  119.321   0.2690   \n",
       "\n",
       "   Popularity_factor  \n",
       "2                  1  \n",
       "3                  1  \n",
       "4                  1  \n",
       "5                  1  \n",
       "6                  1  "
      ]
     },
     "execution_count": 8,
     "metadata": {},
     "output_type": "execute_result"
    }
   ],
   "source": [
    "# making a series where true is entered if popularity value>mean else False\n",
    "popularity_factor=music[\"popularity\"]>pop_mean\n",
    "#adding popularity factor as a column to the music dataframe with values as 0 and 1\n",
    "music[\"Popularity_factor\"]=popularity_factor.astype(int)\n",
    "music.head()\n"
   ]
  },
  {
   "cell_type": "code",
   "execution_count": 9,
   "metadata": {},
   "outputs": [],
   "source": [
    "feature_cols=['acousticness','danceability','energy','instrumentalness','key','liveness','loudness','speechiness','tempo','valence']\n",
    "target_col=['Popularity_factor']"
   ]
  },
  {
   "cell_type": "code",
   "execution_count": 10,
   "metadata": {},
   "outputs": [],
   "source": [
    "#as we can see that mode is the least important feature(score<0.05) and is not appropriate to keep. we will remove made\n",
    "####feature_cols=['acousticness','danceability','energy','instrumentalness','mode','key','liveness','loudness','speechiness','tempo','valence']\n",
    "####target_col=['Popularity_factor']\n",
    "####X=X.drop(['mode'],axis=1)\n",
    "X=music[feature_cols]\n",
    "Y=music['Popularity_factor']"
   ]
  },
  {
   "cell_type": "markdown",
   "metadata": {},
   "source": [
    "* Splitting up of test and train data by using cross validation on the \"Popularity_Factor\""
   ]
  },
  {
   "cell_type": "code",
   "execution_count": 11,
   "metadata": {},
   "outputs": [
    {
     "name": "stdout",
     "output_type": "stream",
     "text": [
      "(322019, 10)\n",
      "(138009, 10)\n"
     ]
    }
   ],
   "source": [
    "#Test Train Split using cross validation\n",
    "seed = 7\n",
    "X_train, X_test, Y_train, Y_test = train_test_split(X, Y, test_size=0.30, random_state=seed)\n",
    "print(X_train.shape)\n",
    "print(X_test.shape)"
   ]
  },
  {
   "cell_type": "markdown",
   "metadata": {},
   "source": [
    "* We are applying \"Logistic Regression\" on the Test and Train data to predict wheather the future songs  would be a \"Hit\" or a \"Not Hit\"."
   ]
  },
  {
   "cell_type": "code",
   "execution_count": 12,
   "metadata": {},
   "outputs": [
    {
     "name": "stderr",
     "output_type": "stream",
     "text": [
      "C:\\Users\\saiprasad\\Anaconda3\\lib\\site-packages\\sklearn\\linear_model\\logistic.py:433: FutureWarning: Default solver will be changed to 'lbfgs' in 0.22. Specify a solver to silence this warning.\n",
      "  FutureWarning)\n"
     ]
    }
   ],
   "source": [
    "#Training and Predicting\n",
    "from sklearn.linear_model import LogisticRegression\n",
    "model = LogisticRegression()\n",
    "model.fit(X_train, Y_train)\n",
    "predicted = model.predict(X_test)\n",
    "matrix = confusion_matrix(Y_test, predicted)"
   ]
  },
  {
   "cell_type": "markdown",
   "metadata": {},
   "source": [
    "* Evaluating the model with confusion matrix and classification Report for \"Logistic Regression Model\"."
   ]
  },
  {
   "cell_type": "code",
   "execution_count": 13,
   "metadata": {},
   "outputs": [
    {
     "name": "stdout",
     "output_type": "stream",
     "text": [
      "Confusion Matrix:\n",
      "[[78862  6389]\n",
      " [43974  8784]]\n",
      "Classification Report:\n",
      "              precision    recall  f1-score   support\n",
      "\n",
      "           0       0.64      0.93      0.76     85251\n",
      "           1       0.58      0.17      0.26     52758\n",
      "\n",
      "   micro avg       0.64      0.64      0.64    138009\n",
      "   macro avg       0.61      0.55      0.51    138009\n",
      "weighted avg       0.62      0.64      0.57    138009\n",
      "\n",
      "Accuracy is:  0.6350745241252382\n"
     ]
    }
   ],
   "source": [
    "#Evaluation\n",
    "from sklearn.metrics import classification_report\n",
    "predicted = model.predict(X_test)\n",
    "matrix = confusion_matrix(Y_test, predicted)\n",
    "print(\"Confusion Matrix:\")\n",
    "print(matrix)\n",
    "report = classification_report(Y_test, predicted)\n",
    "print(\"Classification Report:\")\n",
    "print(report)\n",
    "accuracy=np.mean(predicted==Y_test)\n",
    "print(\"Accuracy is: \",accuracy)\n",
    "\n",
    "#The precision is the ratio tp / (tp + fp) where tp is the number of true positives and fp the number of false positives. The precision is intuitively the ability of the classifier not to label as positive a sample that is negative.\n",
    "#The recall is the ratio t / (tp + fn) where tp is the number of true positives and fn the number of false negatives. The recall is intuitively the ability of the classifier to find all the positive samples.\n",
    "#The F-beta score can be interpreted as a weighted harmonic mean of the precision and recall, where an F-beta score reaches its best value at 1 and worst score at 0.\n",
    "#The F-beta score weights recall more than precision by a factor of beta. beta == 1.0 means recall and precision are equally important.\n",
    "#The support is the number of occurrences of each class in y_true."
   ]
  },
  {
   "cell_type": "markdown",
   "metadata": {},
   "source": [
    "* The Prediction Accuracy obtained by \"Logistic Regression model\"  on the dataset is  63.5 %"
   ]
  },
  {
   "cell_type": "markdown",
   "metadata": {},
   "source": [
    "* Plotting the Confusion matrix \"Without Normalization\" and with \"Normalization\"."
   ]
  },
  {
   "cell_type": "code",
   "execution_count": 14,
   "metadata": {},
   "outputs": [
    {
     "name": "stdout",
     "output_type": "stream",
     "text": [
      "Confusion matrix, without normalization\n",
      "[[78862  6389]\n",
      " [43974  8784]]\n",
      "Normalized confusion matrix\n",
      "[[0.93 0.07]\n",
      " [0.83 0.17]]\n"
     ]
    },
    {
     "data": {
      "image/png": "[encoded data removed]",
      "text/plain": [
       "<Figure size 432x288 with 2 Axes>"
      ]
     },
     "metadata": {
      "needs_background": "light"
     },
     "output_type": "display_data"
    },
    {
     "data": {
      "image/png": "[encoded data removed]",
      "text/plain": [
       "<Figure size 432x288 with 2 Axes>"
      ]
     },
     "metadata": {
      "needs_background": "light"
     },
     "output_type": "display_data"
    }
   ],
   "source": [
    "#plotting the evaluation\n",
    "\n",
    "def plot_confusion_matrix(cm,\n",
    "                          normalize=False,\n",
    "                          title='Confusion matrix',\n",
    "                          cmap=plt.cm.Blues):\n",
    "    \"\"\"\n",
    "    This function prints and plots the confusion matrix.\n",
    "    Normalization can be applied by setting `normalize=True`.\n",
    "    \"\"\"\n",
    "    if normalize:\n",
    "        cm = cm.astype('float') / cm.sum(axis=1)[:, np.newaxis]\n",
    "        print(\"Normalized confusion matrix\")\n",
    "    else:\n",
    "        print('Confusion matrix, without normalization')\n",
    " \n",
    "    print(cm)\n",
    " \n",
    "    plt.imshow(cm, interpolation='nearest', cmap=cmap)\n",
    "    plt.title(title)\n",
    "    plt.colorbar()\n",
    " \n",
    "    fmt = '.2f' if normalize else 'd'\n",
    "    thresh = cm.max() / 2.\n",
    "    for i, j in itertools.product(range(cm.shape[0]), range(cm.shape[1])):\n",
    "        plt.text(j, i, format(cm[i, j], fmt),\n",
    "                 horizontalalignment=\"center\",\n",
    "                 color=\"white\" if cm[i, j] > thresh else \"black\")\n",
    " \n",
    "    plt.tight_layout()\n",
    "    plt.ylabel('True label')\n",
    "    plt.xlabel('Predicted label')\n",
    " \n",
    "# Compute confusion matrix\n",
    "np.set_printoptions(precision=2)\n",
    " \n",
    "# Plot non-normalized confusion matrix\n",
    "plt.figure()\n",
    "plot_confusion_matrix(matrix,\n",
    "                      title='Confusion matrix, without normalization')\n",
    " \n",
    "# Plot normalized confusion matrix\n",
    "plt.figure()\n",
    "plot_confusion_matrix(matrix, normalize=True,\n",
    "                      title='Normalized confusion matrix')\n",
    " \n",
    "plt.show()"
   ]
  },
  {
   "cell_type": "markdown",
   "metadata": {},
   "source": [
    "* We are applying \"Random Forest\" on the Test and Train data to predict wheather the future songs  would be a \"Hit\" or a \"Not Hit\"."
   ]
  },
  {
   "cell_type": "code",
   "execution_count": 15,
   "metadata": {},
   "outputs": [],
   "source": [
    "# Build a forest\n",
    "from sklearn.ensemble import ExtraTreesClassifier\n",
    "forest = ExtraTreesClassifier(n_estimators=20,\n",
    "                              random_state=0)\n",
    "\n",
    "forest.fit(X, Y)\n",
    "importances = forest.feature_importances_\n",
    "std = np.std([tree.feature_importances_ for tree in forest.estimators_],\n",
    "             axis=0)\n",
    "indices = np.argsort(importances)[::-1]\n",
    "fnames = [feature_cols[i] for i in indices]\n"
   ]
  },
  {
   "cell_type": "markdown",
   "metadata": {},
   "source": [
    "* Predicting the accuracy for \"Random Forest\" Model."
   ]
  },
  {
   "cell_type": "code",
   "execution_count": 16,
   "metadata": {},
   "outputs": [],
   "source": [
    "from sklearn.ensemble import RandomForestClassifier\n",
    "rfc=RandomForestClassifier(n_estimators=20)\n",
    "\n",
    "#fit the data\n",
    "rfc.fit(X_train,Y_train)\n",
    "\n",
    "Y_pred_rfc=rfc.predict(X_test)\n",
    "\n",
    "matrix_rfc = confusion_matrix(Y_test, Y_pred_rfc)"
   ]
  },
  {
   "cell_type": "code",
   "execution_count": 20,
   "metadata": {},
   "outputs": [
    {
     "name": "stdout",
     "output_type": "stream",
     "text": [
      "Confusion Matrix:\n",
      "[[80916  4335]\n",
      " [ 9103 43655]]\n",
      "Classification Report:\n",
      "              precision    recall  f1-score   support\n",
      "\n",
      "           0       0.90      0.95      0.92     85251\n",
      "           1       0.91      0.83      0.87     52758\n",
      "\n",
      "   micro avg       0.90      0.90      0.90    138009\n",
      "   macro avg       0.90      0.89      0.89    138009\n",
      "weighted avg       0.90      0.90      0.90    138009\n",
      "\n",
      "Accuracy for rfc:  0.9026295386532762\n"
     ]
    }
   ],
   "source": [
    "#Evaluation\n",
    "from sklearn.metrics import classification_report\n",
    "#predicted = model.predict(X_test)\n",
    "#matrix = confusion_matrix(Y_test, predicted)\n",
    "print(\"Confusion Matrix:\")\n",
    "print(matrix_rfc)\n",
    "report_rfc = classification_report(Y_test, Y_pred_rfc)\n",
    "print(\"Classification Report:\")\n",
    "print(report_rfc)\n",
    "accuracy_rfc=np.mean(Y_pred_rfc==Y_test)\n",
    "print(\"Accuracy for rfc: \",accuracy_rfc)"
   ]
  },
  {
   "cell_type": "markdown",
   "metadata": {},
   "source": [
    "* The Prediction Accuracy obtained by \"Random Forest\" model on the dataset is  90.1 %"
   ]
  },
  {
   "cell_type": "code",
   "execution_count": 18,
   "metadata": {},
   "outputs": [
    {
     "name": "stdout",
     "output_type": "stream",
     "text": [
      "Confusion matrix, without normalization\n",
      "[[80916  4335]\n",
      " [ 9103 43655]]\n",
      "Normalized confusion matrix\n",
      "[[0.95 0.05]\n",
      " [0.17 0.83]]\n"
     ]
    },
    {
     "data": {
      "image/png": "[encoded data removed]",
      "text/plain": [
       "<Figure size 432x288 with 2 Axes>"
      ]
     },
     "metadata": {
      "needs_background": "light"
     },
     "output_type": "display_data"
    },
    {
     "data": {
      "image/png": "[encoded data removed]",
      "text/plain": [
       "<Figure size 432x288 with 2 Axes>"
      ]
     },
     "metadata": {
      "needs_background": "light"
     },
     "output_type": "display_data"
    }
   ],
   "source": [
    "matrix_rfc = confusion_matrix(Y_test, Y_pred_rfc)\n",
    " \n",
    "\n",
    "def plot_confusion_matrix(cm,\n",
    "                          normalize=False,\n",
    "                          title='Confusion matrix',\n",
    "                          cmap=plt.cm.Blues):\n",
    "    \"\"\"\n",
    "    This function prints and plots the confusion matrix.\n",
    "    Normalization can be applied by setting `normalize=True`.\n",
    "    \"\"\"\n",
    "    if normalize:\n",
    "        cm = cm.astype('float') / cm.sum(axis=1)[:, np.newaxis]\n",
    "        print(\"Normalized confusion matrix\")\n",
    "    else:\n",
    "        print('Confusion matrix, without normalization')\n",
    " \n",
    "    print(cm)\n",
    " \n",
    "    plt.imshow(cm, interpolation='nearest', cmap=cmap)\n",
    "    plt.title(title)\n",
    "    plt.colorbar()\n",
    " \n",
    "    fmt = '.2f' if normalize else 'd'\n",
    "    thresh = cm.max() / 2.\n",
    "    for i, j in itertools.product(range(cm.shape[0]), range(cm.shape[1])):\n",
    "        plt.text(j, i, format(cm[i, j], fmt),\n",
    "                 horizontalalignment=\"center\",\n",
    "                 color=\"white\" if cm[i, j] > thresh else \"black\")\n",
    " \n",
    "    plt.tight_layout()\n",
    "    plt.ylabel('True label')\n",
    "    plt.xlabel('Predicted label')\n",
    " \n",
    "# Compute confusion matrix\n",
    "np.set_printoptions(precision=2)\n",
    " \n",
    "# Plot non-normalized confusion matrix\n",
    "plt.figure()\n",
    "plot_confusion_matrix(matrix_rfc,\n",
    "                      title='Confusion matrix, without normalization')\n",
    " \n",
    "# Plot normalized confusion matrix\n",
    "plt.figure()\n",
    "plot_confusion_matrix(matrix_rfc, normalize=True,\n",
    "                      title='Normalized confusion matrix')\n",
    " \n",
    "plt.show()"
   ]
  },
  {
   "cell_type": "markdown",
   "metadata": {},
   "source": [
    "* We are applying \"K-Nearest Neigbor\" on the Test and Train data to predict wheather the future songs  would be a \"Hit\" or a \"Not Hit\"."
   ]
  },
  {
   "cell_type": "code",
   "execution_count": 19,
   "metadata": {},
   "outputs": [
    {
     "data": {
      "text/plain": [
       "KNeighborsClassifier(algorithm='auto', leaf_size=30, metric='minkowski',\n",
       "           metric_params=None, n_jobs=None, n_neighbors=100, p=2,\n",
       "           weights='uniform')"
      ]
     },
     "execution_count": 19,
     "metadata": {},
     "output_type": "execute_result"
    }
   ],
   "source": [
    "#knn\n",
    "from sklearn import neighbors\n",
    "knn=neighbors.KNeighborsClassifier(n_neighbors=100,weights='uniform')\n",
    "knn.fit(X_train,Y_train)"
   ]
  },
  {
   "cell_type": "code",
   "execution_count": 21,
   "metadata": {},
   "outputs": [],
   "source": [
    "#knn prediction\n",
    "Y_pred_knn=knn.predict(X_test)\n",
    "\n",
    "matrix_knn = confusion_matrix(Y_test, Y_pred_knn)"
   ]
  },
  {
   "cell_type": "code",
   "execution_count": 22,
   "metadata": {},
   "outputs": [
    {
     "name": "stdout",
     "output_type": "stream",
     "text": [
      "Confusion Matrix:\n",
      "[[74299 10952]\n",
      " [39441 13317]]\n",
      "Classification Report:\n",
      "              precision    recall  f1-score   support\n",
      "\n",
      "           0       0.65      0.87      0.75     85251\n",
      "           1       0.55      0.25      0.35     52758\n",
      "\n",
      "   micro avg       0.63      0.63      0.63    138009\n",
      "   macro avg       0.60      0.56      0.55    138009\n",
      "weighted avg       0.61      0.63      0.59    138009\n",
      "\n",
      "Accuracy for rfc:  0.6348571469976596\n"
     ]
    }
   ],
   "source": [
    "#Evaluation\n",
    "from sklearn.metrics import classification_report\n",
    "#predicted = model.predict(X_test)\n",
    "#matrix = confusion_matrix(Y_test, predicted)\n",
    "print(\"Confusion Matrix:\")\n",
    "print(matrix_knn)\n",
    "report_knn = classification_report(Y_test, Y_pred_knn)\n",
    "print(\"Classification Report:\")\n",
    "print(report_knn)\n",
    "accuracy_knn=np.mean(Y_pred_knn==Y_test)\n",
    "print(\"Accuracy for rfc: \",accuracy_knn)"
   ]
  },
  {
   "cell_type": "markdown",
   "metadata": {},
   "source": [
    "* The Prediction Accuracy obtained by \"K-Nearest Neighbor\" model on the dataset is  63.48%"
   ]
  },
  {
   "cell_type": "code",
   "execution_count": 23,
   "metadata": {},
   "outputs": [
    {
     "name": "stdout",
     "output_type": "stream",
     "text": [
      "Confusion matrix, without normalization\n",
      "[[74299 10952]\n",
      " [39441 13317]]\n",
      "Normalized confusion matrix\n",
      "[[0.87 0.13]\n",
      " [0.75 0.25]]\n"
     ]
    },
    {
     "data": {
      "image/png": "[encoded data removed]",
      "text/plain": [
       "<Figure size 432x288 with 2 Axes>"
      ]
     },
     "metadata": {
      "needs_background": "light"
     },
     "output_type": "display_data"
    },
    {
     "data": {
      "image/png": "[encoded data removed]",
      "text/plain": [
       "<Figure size 432x288 with 2 Axes>"
      ]
     },
     "metadata": {
      "needs_background": "light"
     },
     "output_type": "display_data"
    }
   ],
   "source": [
    "matrix_knn = confusion_matrix(Y_test, Y_pred_knn)\n",
    " \n",
    "\n",
    "def plot_confusion_matrix(cm,\n",
    "                          normalize=False,\n",
    "                          title='Confusion matrix',\n",
    "                          cmap=plt.cm.Blues):\n",
    "    \"\"\"\n",
    "    This function prints and plots the confusion matrix.\n",
    "    Normalization can be applied by setting `normalize=True`.\n",
    "    \"\"\"\n",
    "    if normalize:\n",
    "        cm = cm.astype('float') / cm.sum(axis=1)[:, np.newaxis]\n",
    "        print(\"Normalized confusion matrix\")\n",
    "    else:\n",
    "        print('Confusion matrix, without normalization')\n",
    " \n",
    "    print(cm)\n",
    " \n",
    "    plt.imshow(cm, interpolation='nearest', cmap=cmap)\n",
    "    plt.title(title)\n",
    "    plt.colorbar()\n",
    " \n",
    "    fmt = '.2f' if normalize else 'd'\n",
    "    thresh = cm.max() / 2.\n",
    "    for i, j in itertools.product(range(cm.shape[0]), range(cm.shape[1])):\n",
    "        plt.text(j, i, format(cm[i, j], fmt),\n",
    "                 horizontalalignment=\"center\",\n",
    "                 color=\"white\" if cm[i, j] > thresh else \"black\")\n",
    " \n",
    "    plt.tight_layout()\n",
    "    plt.ylabel('True label')\n",
    "    plt.xlabel('Predicted label')\n",
    " \n",
    "# Compute confusion matrix\n",
    "np.set_printoptions(precision=2)\n",
    " \n",
    "# Plot non-normalized confusion matrix\n",
    "plt.figure()\n",
    "plot_confusion_matrix(matrix_knn,\n",
    "                      title='Confusion matrix, without normalization')\n",
    " \n",
    "# Plot normalized confusion matrix\n",
    "plt.figure()\n",
    "plot_confusion_matrix(matrix_knn, normalize=True,\n",
    "                      title='Normalized confusion matrix')\n",
    " \n",
    "plt.show()"
   ]
  },
  {
   "cell_type": "markdown",
   "metadata": {},
   "source": [
    "* Cross- validation accuracy for every model is shown below."
   ]
  },
  {
   "cell_type": "code",
   "execution_count": 24,
   "metadata": {},
   "outputs": [
    {
     "name": "stdout",
     "output_type": "stream",
     "text": [
      "[0.98 0.98 0.98 0.98 0.98]\n",
      "0.9818141511126616\n",
      "0.9818141511126616\n"
     ]
    }
   ],
   "source": [
    "# Random forest with cv\n",
    "from sklearn.model_selection import cross_val_score\n",
    "scores = cross_val_score(rfc, X, Y, scoring='accuracy', cv=5)\n",
    "print (scores)\n",
    "print (scores.mean())\n",
    "scores_random_Forest=scores.mean()\n",
    "print(scores_random_Forest)"
   ]
  },
  {
   "cell_type": "code",
   "execution_count": 25,
   "metadata": {},
   "outputs": [
    {
     "name": "stderr",
     "output_type": "stream",
     "text": [
      "C:\\Users\\saiprasad\\Anaconda3\\lib\\site-packages\\sklearn\\linear_model\\logistic.py:433: FutureWarning: Default solver will be changed to 'lbfgs' in 0.22. Specify a solver to silence this warning.\n",
      "  FutureWarning)\n",
      "C:\\Users\\saiprasad\\Anaconda3\\lib\\site-packages\\sklearn\\linear_model\\logistic.py:433: FutureWarning: Default solver will be changed to 'lbfgs' in 0.22. Specify a solver to silence this warning.\n",
      "  FutureWarning)\n",
      "C:\\Users\\saiprasad\\Anaconda3\\lib\\site-packages\\sklearn\\linear_model\\logistic.py:433: FutureWarning: Default solver will be changed to 'lbfgs' in 0.22. Specify a solver to silence this warning.\n",
      "  FutureWarning)\n",
      "C:\\Users\\saiprasad\\Anaconda3\\lib\\site-packages\\sklearn\\linear_model\\logistic.py:433: FutureWarning: Default solver will be changed to 'lbfgs' in 0.22. Specify a solver to silence this warning.\n",
      "  FutureWarning)\n",
      "C:\\Users\\saiprasad\\Anaconda3\\lib\\site-packages\\sklearn\\linear_model\\logistic.py:433: FutureWarning: Default solver will be changed to 'lbfgs' in 0.22. Specify a solver to silence this warning.\n",
      "  FutureWarning)\n"
     ]
    },
    {
     "name": "stdout",
     "output_type": "stream",
     "text": [
      "[0.64 0.64 0.62 0.64 0.62]\n",
      "0.6320788780090053\n",
      "0.6320788780090053\n"
     ]
    }
   ],
   "source": [
    "#LOgistic with CV\n",
    "\n",
    "from sklearn.model_selection import cross_val_score\n",
    "scores = cross_val_score(model, X, Y, scoring='accuracy', cv=5)\n",
    "print (scores)\n",
    "print (scores.mean())\n",
    "scores_lr=scores.mean()\n",
    "print(scores_lr)"
   ]
  },
  {
   "cell_type": "code",
   "execution_count": 26,
   "metadata": {},
   "outputs": [
    {
     "name": "stdout",
     "output_type": "stream",
     "text": [
      "[0.64 0.64 0.62 0.65 0.62]\n",
      "0.6342874412732161\n"
     ]
    }
   ],
   "source": [
    "#KNN with CV\n",
    "\n",
    "#from sklearn.model_selection import cross_val_score\n",
    "scores_knn = cross_val_score(knn, X, Y, scoring='accuracy', cv=5)\n",
    "print (scores_knn)\n",
    "print (scores_knn.mean())"
   ]
  },
  {
   "cell_type": "markdown",
   "metadata": {},
   "source": [
    "* Plotting the Accuracies for the model KNN, Logistic Regression and Random Forest."
   ]
  },
  {
   "cell_type": "code",
   "execution_count": 27,
   "metadata": {},
   "outputs": [
    {
     "data": {
      "text/plain": [
       "<matplotlib.axes._subplots.AxesSubplot at 0x26482a4b198>"
      ]
     },
     "execution_count": 27,
     "metadata": {},
     "output_type": "execute_result"
    },
    {
     "data": {
      "image/png": "[encoded data removed]",
      "text/plain": [
       "<Figure size 432x288 with 1 Axes>"
      ]
     },
     "metadata": {
      "needs_background": "light"
     },
     "output_type": "display_data"
    }
   ],
   "source": [
    "d = {'Model':['KNN','Logistic Regression','Random Forest'],'Accuracy':[scores_knn.mean(),scores_lr,scores_random_Forest]}\n",
    "\n",
    "agg_scores = pd.DataFrame(data = d)\n",
    "agg_scores.plot(x='Model',y='Accuracy',kind='bar')"
   ]
  },
  {
   "cell_type": "markdown",
   "metadata": {},
   "source": []
  },
  {
   "cell_type": "code",
   "execution_count": 28,
   "metadata": {},
   "outputs": [],
   "source": [
    "#Random forest confusion matrix with CV\n",
    "from sklearn.model_selection import cross_val_predict\n",
    "from sklearn.metrics import classification_report\n",
    "Y_pred_rfc_cv = cross_val_predict(rfc,X,Y,cv=5)\n",
    "\n"
   ]
  },
  {
   "cell_type": "code",
   "execution_count": 30,
   "metadata": {},
   "outputs": [
    {
     "name": "stdout",
     "output_type": "stream",
     "text": [
      "Confusion Matrix\n",
      "[[280706   3576]\n",
      " [  4719 171027]]\n",
      "Classification Report:\n",
      "              precision    recall  f1-score   support\n",
      "\n",
      "           0       0.98      0.99      0.99    284282\n",
      "           1       0.98      0.97      0.98    175746\n",
      "\n",
      "   micro avg       0.98      0.98      0.98    460028\n",
      "   macro avg       0.98      0.98      0.98    460028\n",
      "weighted avg       0.98      0.98      0.98    460028\n",
      "\n",
      "Accuracy for rfc:  0.9818141511126616\n"
     ]
    }
   ],
   "source": [
    "print('Confusion Matrix')\n",
    "matrix_rfc_cv = confusion_matrix(Y, Y_pred_rfc_cv)\n",
    "print(matrix_rfc_cv)\n",
    "report_rfc = classification_report(Y, Y_pred_rfc_cv)\n",
    "print(\"Classification Report:\")\n",
    "print(report_rfc)\n",
    "accuracy_rfc_cv=np.mean(Y_pred_rfc_cv==Y)\n",
    "print(\"Accuracy for rfc: \",scores_random_Forest)"
   ]
  },
  {
   "cell_type": "markdown",
   "metadata": {},
   "source": [
    "* As you can see Accuracy of the Random Forest model is higher with 98% as compared to Logistic regression and K- Nearest Neighbor. So Random Forest Model is the most optimal and Highly Accurate model for our Prediction."
   ]
  },
  {
   "cell_type": "code",
   "execution_count": 31,
   "metadata": {},
   "outputs": [
    {
     "data": {
      "image/png": "[encoded data removed]",
      "text/plain": [
       "<Figure size 432x288 with 1 Axes>"
      ]
     },
     "metadata": {
      "needs_background": "light"
     },
     "output_type": "display_data"
    }
   ],
   "source": [
    "from sklearn.metrics import roc_curve,auc\n",
    "fpr, tpr, thresholds = roc_curve(Y,Y_pred_rfc_cv)\n",
    "roc_auc = auc(fpr, tpr)\n",
    "\n",
    "plt.title('Receiver Operating Characteristic')\n",
    "plt.plot(fpr, tpr, 'b', label = 'AUC = %0.2f' % roc_auc)\n",
    "plt.legend(loc = 'lower right')\n",
    "plt.plot([0, 1], [0, 1],'r--')\n",
    "plt.xlim([0, 1])\n",
    "plt.ylim([0, 1])\n",
    "plt.ylabel('True Positive Rate')\n",
    "plt.xlabel('False Positive Rate')\n",
    "plt.show()"
   ]
  },
  {
   "cell_type": "code",
   "execution_count": null,
   "metadata": {},
   "outputs": [],
   "source": []
  }
 ],
 "metadata": {
  "kernelspec": {
   "display_name": "Python 3",
   "language": "python",
   "name": "python3"
  },
  "language_info": {
   "codemirror_mode": {
    "name": "ipython",
    "version": 3
   },
   "file_extension": ".py",
   "mimetype": "text/x-python",
   "name": "python",
   "nbconvert_exporter": "python",
   "pygments_lexer": "ipython3",
   "version": "3.7.1"
  }
 },
 "nbformat": 4,
 "nbformat_minor": 2
}
